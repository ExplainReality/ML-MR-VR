{
  "cells": [
    {
      "cell_type": "markdown",
      "metadata": {
        "id": "YGM88MfUQcA9"
      },
      "source": [
        "# Neuer Abschnitt"
      ]
    },
    {
      "cell_type": "code",
      "execution_count": null,
      "metadata": {
        "id": "u2RhPkoERRW3"
      },
      "outputs": [],
      "source": [
        "import zipfile\n",
        "import os\n",
        "#changee\n",
        "# Define the uploaded file name (change this to match your uploaded ZIP file)\n",
        "zip_path = \"archive.zip\"\n",
        "\n",
        "# Extract the files\n",
        "with zipfile.ZipFile(zip_path, 'r') as zip_ref:\n",
        "    zip_ref.extractall(\"e_waste_dataset\")  # Extract to a new folder\n",
        "\n",
        "# Change directory to the extracted folder\n",
        "os.chdir(\"e_waste_dataset\")\n",
        "\n"
      ]
    },
    {
      "cell_type": "code",
      "execution_count": null,
      "metadata": {
        "colab": {
          "base_uri": "https://localhost:8080/"
        },
        "id": "p17r-t1iTRe7",
        "outputId": "e7e5b0fa-5a26-47fe-fa88-cefa11e855c6"
      },
      "outputs": [
        {
          "name": "stdout",
          "output_type": "stream",
          "text": [
            "Requirement already satisfied: opencv-python in c:\\users\\dellg3\\appdata\\local\\packages\\pythonsoftwarefoundation.python.3.11_qbz5n2kfra8p0\\localcache\\local-packages\\python311\\site-packages (4.11.0.86)\n",
            "Collecting matplotlib\n",
            "  Downloading matplotlib-3.10.1-cp311-cp311-win_amd64.whl.metadata (11 kB)\n",
            "Requirement already satisfied: numpy>=1.21.2 in c:\\users\\dellg3\\appdata\\local\\packages\\pythonsoftwarefoundation.python.3.11_qbz5n2kfra8p0\\localcache\\local-packages\\python311\\site-packages (from opencv-python) (2.2.3)\n",
            "Collecting contourpy>=1.0.1 (from matplotlib)\n",
            "  Downloading contourpy-1.3.1-cp311-cp311-win_amd64.whl.metadata (5.4 kB)\n",
            "Collecting cycler>=0.10 (from matplotlib)\n",
            "  Using cached cycler-0.12.1-py3-none-any.whl.metadata (3.8 kB)\n",
            "Collecting fonttools>=4.22.0 (from matplotlib)\n",
            "  Downloading fonttools-4.57.0-cp311-cp311-win_amd64.whl.metadata (104 kB)\n",
            "     ---------------------------------------- 0.0/104.6 kB ? eta -:--:--\n",
            "     ---------------------------------------- 0.0/104.6 kB ? eta -:--:--\n",
            "     --- ------------------------------------ 10.2/104.6 kB ? eta -:--:--\n",
            "     -------------- ---------------------- 41.0/104.6 kB 495.5 kB/s eta 0:00:01\n",
            "     -----------------------------------  102.4/104.6 kB 980.4 kB/s eta 0:00:01\n",
            "     ------------------------------------ 104.6/104.6 kB 669.2 kB/s eta 0:00:00\n",
            "Collecting kiwisolver>=1.3.1 (from matplotlib)\n",
            "  Downloading kiwisolver-1.4.8-cp311-cp311-win_amd64.whl.metadata (6.3 kB)\n",
            "Requirement already satisfied: packaging>=20.0 in c:\\users\\dellg3\\appdata\\local\\packages\\pythonsoftwarefoundation.python.3.11_qbz5n2kfra8p0\\localcache\\local-packages\\python311\\site-packages (from matplotlib) (24.2)\n",
            "Collecting pillow>=8 (from matplotlib)\n",
            "  Downloading pillow-11.1.0-cp311-cp311-win_amd64.whl.metadata (9.3 kB)\n",
            "Collecting pyparsing>=2.3.1 (from matplotlib)\n",
            "  Downloading pyparsing-3.2.3-py3-none-any.whl.metadata (5.0 kB)\n",
            "Requirement already satisfied: python-dateutil>=2.7 in c:\\users\\dellg3\\appdata\\local\\packages\\pythonsoftwarefoundation.python.3.11_qbz5n2kfra8p0\\localcache\\local-packages\\python311\\site-packages (from matplotlib) (2.9.0.post0)\n",
            "Requirement already satisfied: six>=1.5 in c:\\users\\dellg3\\appdata\\local\\packages\\pythonsoftwarefoundation.python.3.11_qbz5n2kfra8p0\\localcache\\local-packages\\python311\\site-packages (from python-dateutil>=2.7->matplotlib) (1.17.0)\n",
            "Downloading matplotlib-3.10.1-cp311-cp311-win_amd64.whl (8.1 MB)\n",
            "   ---------------------------------------- 0.0/8.1 MB ? eta -:--:--\n",
            "    --------------------------------------- 0.2/8.1 MB 3.7 MB/s eta 0:00:03\n",
            "   - -------------------------------------- 0.4/8.1 MB 3.9 MB/s eta 0:00:02\n",
            "   -- ------------------------------------- 0.6/8.1 MB 4.0 MB/s eta 0:00:02\n",
            "   ---- ----------------------------------- 1.0/8.1 MB 5.0 MB/s eta 0:00:02\n",
            "   ----- ---------------------------------- 1.2/8.1 MB 5.1 MB/s eta 0:00:02\n",
            "   ------- -------------------------------- 1.5/8.1 MB 5.3 MB/s eta 0:00:02\n",
            "   --------- ------------------------------ 1.9/8.1 MB 5.6 MB/s eta 0:00:02\n",
            "   ---------- ----------------------------- 2.0/8.1 MB 5.6 MB/s eta 0:00:02\n",
            "   ---------- ----------------------------- 2.2/8.1 MB 5.3 MB/s eta 0:00:02\n",
            "   ----------- ---------------------------- 2.4/8.1 MB 5.0 MB/s eta 0:00:02\n",
            "   ------------ --------------------------- 2.6/8.1 MB 5.0 MB/s eta 0:00:02\n",
            "   -------------- ------------------------- 2.8/8.1 MB 5.0 MB/s eta 0:00:02\n",
            "   --------------- ------------------------ 3.1/8.1 MB 5.1 MB/s eta 0:00:01\n",
            "   ---------------- ----------------------- 3.4/8.1 MB 5.2 MB/s eta 0:00:01\n",
            "   ------------------ --------------------- 3.7/8.1 MB 5.2 MB/s eta 0:00:01\n",
            "   ------------------- -------------------- 4.0/8.1 MB 5.3 MB/s eta 0:00:01\n",
            "   --------------------- ------------------ 4.3/8.1 MB 5.3 MB/s eta 0:00:01\n",
            "   ---------------------- ----------------- 4.5/8.1 MB 5.3 MB/s eta 0:00:01\n",
            "   ----------------------- ---------------- 4.7/8.1 MB 5.3 MB/s eta 0:00:01\n",
            "   ------------------------ --------------- 5.0/8.1 MB 5.3 MB/s eta 0:00:01\n",
            "   ------------------------- -------------- 5.2/8.1 MB 5.3 MB/s eta 0:00:01\n",
            "   -------------------------- ------------- 5.4/8.1 MB 5.3 MB/s eta 0:00:01\n",
            "   ---------------------------- ----------- 5.7/8.1 MB 5.3 MB/s eta 0:00:01\n",
            "   ----------------------------- ---------- 5.9/8.1 MB 5.3 MB/s eta 0:00:01\n",
            "   ------------------------------ --------- 6.2/8.1 MB 5.2 MB/s eta 0:00:01\n",
            "   ------------------------------- -------- 6.4/8.1 MB 5.3 MB/s eta 0:00:01\n",
            "   --------------------------------- ------ 6.7/8.1 MB 5.3 MB/s eta 0:00:01\n",
            "   ---------------------------------- ----- 6.9/8.1 MB 5.3 MB/s eta 0:00:01\n",
            "   ----------------------------------- ---- 7.2/8.1 MB 5.3 MB/s eta 0:00:01\n",
            "   ------------------------------------- -- 7.6/8.1 MB 5.4 MB/s eta 0:00:01\n",
            "   -------------------------------------- - 7.8/8.1 MB 5.4 MB/s eta 0:00:01\n",
            "   ---------------------------------------  8.1/8.1 MB 5.4 MB/s eta 0:00:01\n",
            "   ---------------------------------------  8.1/8.1 MB 5.4 MB/s eta 0:00:01\n",
            "   ---------------------------------------- 8.1/8.1 MB 5.1 MB/s eta 0:00:00\n",
            "Downloading contourpy-1.3.1-cp311-cp311-win_amd64.whl (219 kB)\n",
            "   ---------------------------------------- 0.0/219.8 kB ? eta -:--:--\n",
            "   ---------------------------------------  215.0/219.8 kB 6.6 MB/s eta 0:00:01\n",
            "   ---------------------------------------- 219.8/219.8 kB 3.4 MB/s eta 0:00:00\n",
            "Using cached cycler-0.12.1-py3-none-any.whl (8.3 kB)\n",
            "Downloading fonttools-4.57.0-cp311-cp311-win_amd64.whl (2.2 MB)\n",
            "   ---------------------------------------- 0.0/2.2 MB ? eta -:--:--\n",
            "   ----- ---------------------------------- 0.3/2.2 MB 8.6 MB/s eta 0:00:01\n",
            "   ---------- ----------------------------- 0.6/2.2 MB 7.5 MB/s eta 0:00:01\n",
            "   --------------- ------------------------ 0.9/2.2 MB 7.0 MB/s eta 0:00:01\n",
            "   -------------------- ------------------- 1.1/2.2 MB 6.6 MB/s eta 0:00:01\n",
            "   ------------------------- -------------- 1.4/2.2 MB 6.4 MB/s eta 0:00:01\n",
            "   ------------------------------ --------- 1.7/2.2 MB 5.9 MB/s eta 0:00:01\n",
            "   ---------------------------------- ----- 1.9/2.2 MB 6.0 MB/s eta 0:00:01\n",
            "   ---------------------------------------  2.2/2.2 MB 6.0 MB/s eta 0:00:01\n",
            "   ---------------------------------------- 2.2/2.2 MB 5.4 MB/s eta 0:00:00\n",
            "Downloading kiwisolver-1.4.8-cp311-cp311-win_amd64.whl (71 kB)\n",
            "   ---------------------------------------- 0.0/72.0 kB ? eta -:--:--\n",
            "   ---------------------------------------  71.7/72.0 kB ? eta -:--:--\n",
            "   ---------------------------------------  71.7/72.0 kB ? eta -:--:--\n",
            "   ---------------------------------------- 72.0/72.0 kB 493.8 kB/s eta 0:00:00\n",
            "Downloading pillow-11.1.0-cp311-cp311-win_amd64.whl (2.6 MB)\n",
            "   ---------------------------------------- 0.0/2.6 MB ? eta -:--:--\n",
            "   --- ------------------------------------ 0.2/2.6 MB 7.6 MB/s eta 0:00:01\n",
            "   ------- -------------------------------- 0.5/2.6 MB 5.3 MB/s eta 0:00:01\n",
            "   ----------- ---------------------------- 0.8/2.6 MB 6.0 MB/s eta 0:00:01\n",
            "   --------------- ------------------------ 1.0/2.6 MB 5.9 MB/s eta 0:00:01\n",
            "   -------------------- ------------------- 1.3/2.6 MB 6.0 MB/s eta 0:00:01\n",
            "   ------------------------- -------------- 1.7/2.6 MB 6.3 MB/s eta 0:00:01\n",
            "   ------------------------------- -------- 2.1/2.6 MB 6.6 MB/s eta 0:00:01\n",
            "   ---------------------------------- ----- 2.2/2.6 MB 6.2 MB/s eta 0:00:01\n",
            "   ------------------------------------- -- 2.5/2.6 MB 5.8 MB/s eta 0:00:01\n",
            "   ---------------------------------------  2.6/2.6 MB 6.0 MB/s eta 0:00:01\n",
            "   ---------------------------------------- 2.6/2.6 MB 5.6 MB/s eta 0:00:00\n",
            "Downloading pyparsing-3.2.3-py3-none-any.whl (111 kB)\n",
            "   ---------------------------------------- 0.0/111.1 kB ? eta -:--:--\n",
            "   ---------------------------------------- 111.1/111.1 kB 3.2 MB/s eta 0:00:00\n",
            "Installing collected packages: pyparsing, pillow, kiwisolver, fonttools, cycler, contourpy, matplotlib\n",
            "Successfully installed contourpy-1.3.1 cycler-0.12.1 fonttools-4.57.0 kiwisolver-1.4.8 matplotlib-3.10.1 pillow-11.1.0 pyparsing-3.2.3\n",
            "Note: you may need to restart the kernel to use updated packages.\n"
          ]
        },
        {
          "name": "stderr",
          "output_type": "stream",
          "text": [
            "\n",
            "[notice] A new release of pip is available: 24.0 -> 25.0.1\n",
            "[notice] To update, run: C:\\Users\\dellg3\\AppData\\Local\\Microsoft\\WindowsApps\\PythonSoftwareFoundation.Python.3.11_qbz5n2kfra8p0\\python.exe -m pip install --upgrade pip\n"
          ]
        }
      ],
      "source": [
        "%pip install opencv-python matplotlib\n",
        "\n",
        "import matplotlib as plt\n"
      ]
    },
    {
      "cell_type": "code",
      "execution_count": 5,
      "metadata": {
        "colab": {
          "base_uri": "https://localhost:8080/",
          "height": 406
        },
        "id": "jl7IHN_nT2jr",
        "outputId": "e508c082-13c8-4333-9e39-ba1e4eebad64"
      },
      "outputs": [
        {
          "name": "stdout",
          "output_type": "stream",
          "text": [
            "Requirement already satisfied: opencv-python in c:\\users\\dellg3\\appdata\\roaming\\python\\python312\\site-packages (4.10.0.84)\n",
            "Requirement already satisfied: numpy>=1.21.2 in c:\\users\\dellg3\\anaconda3\\lib\\site-packages (from opencv-python) (1.26.4)\n",
            "Note: you may need to restart the kernel to use updated packages.\n"
          ]
        },
        {
          "data": {
            "image/png": "[encoded data removed]",
            "text/plain": [
              "<Figure size 640x480 with 1 Axes>"
            ]
          },
          "metadata": {},
          "output_type": "display_data"
        }
      ],
      "source": [
        "%pip install opencv-python\n",
        "\n",
        "import cv2\n",
        "import matplotlib.pyplot as plt\n",
        "\n",
        "img = cv2.imread(\"e_waste_dataset/modified-dataset/train/Battery/battery_1.jpg\")\n",
        "\n",
        "# Convert BGR to RGB (OpenCV loads images in BGR format)\n",
        "img_rgb = cv2.cvtColor(img, cv2.COLOR_BGR2RGB)\n",
        "\n",
        "# Display the image\n",
        "plt.imshow(img_rgb)\n",
        "plt.axis(\"off\")\n",
        "plt.show()\n"
      ]
    },
    {
      "cell_type": "code",
      "execution_count": 4,
      "metadata": {
        "colab": {
          "base_uri": "https://localhost:8080/"
        },
        "id": "Nnq48xotWkZw",
        "outputId": "4eb21aa6-91ba-4950-84c2-c5d6b9389b15"
      },
      "outputs": [
        {
          "name": "stdout",
          "output_type": "stream",
          "text": [
            "Requirement already satisfied: tensorflow in c:\\users\\dellg3\\anaconda3\\lib\\site-packages (2.18.0)\n",
            "Requirement already satisfied: tensorflow-intel==2.18.0 in c:\\users\\dellg3\\anaconda3\\lib\\site-packages (from tensorflow) (2.18.0)\n",
            "Requirement already satisfied: absl-py>=1.0.0 in c:\\users\\dellg3\\anaconda3\\lib\\site-packages (from tensorflow-intel==2.18.0->tensorflow) (2.1.0)\n",
            "Requirement already satisfied: astunparse>=1.6.0 in c:\\users\\dellg3\\anaconda3\\lib\\site-packages (from tensorflow-intel==2.18.0->tensorflow) (1.6.3)\n",
            "Requirement already satisfied: flatbuffers>=24.3.25 in c:\\users\\dellg3\\anaconda3\\lib\\site-packages (from tensorflow-intel==2.18.0->tensorflow) (25.2.10)\n",
            "Requirement already satisfied: gast!=0.5.0,!=0.5.1,!=0.5.2,>=0.2.1 in c:\\users\\dellg3\\anaconda3\\lib\\site-packages (from tensorflow-intel==2.18.0->tensorflow) (0.6.0)\n",
            "Requirement already satisfied: google-pasta>=0.1.1 in c:\\users\\dellg3\\anaconda3\\lib\\site-packages (from tensorflow-intel==2.18.0->tensorflow) (0.2.0)\n",
            "Requirement already satisfied: libclang>=13.0.0 in c:\\users\\dellg3\\anaconda3\\lib\\site-packages (from tensorflow-intel==2.18.0->tensorflow) (18.1.1)\n",
            "Requirement already satisfied: opt-einsum>=2.3.2 in c:\\users\\dellg3\\anaconda3\\lib\\site-packages (from tensorflow-intel==2.18.0->tensorflow) (3.4.0)\n",
            "Requirement already satisfied: packaging in c:\\users\\dellg3\\appdata\\roaming\\python\\python312\\site-packages (from tensorflow-intel==2.18.0->tensorflow) (24.2)\n",
            "Requirement already satisfied: protobuf!=4.21.0,!=4.21.1,!=4.21.2,!=4.21.3,!=4.21.4,!=4.21.5,<6.0.0dev,>=3.20.3 in c:\\users\\dellg3\\anaconda3\\lib\\site-packages (from tensorflow-intel==2.18.0->tensorflow) (4.25.3)\n",
            "Requirement already satisfied: requests<3,>=2.21.0 in c:\\users\\dellg3\\appdata\\roaming\\python\\python312\\site-packages (from tensorflow-intel==2.18.0->tensorflow) (2.32.3)\n",
            "Requirement already satisfied: setuptools in c:\\users\\dellg3\\appdata\\roaming\\python\\python312\\site-packages (from tensorflow-intel==2.18.0->tensorflow) (75.6.0)\n",
            "Requirement already satisfied: six>=1.12.0 in c:\\users\\dellg3\\appdata\\roaming\\python\\python312\\site-packages (from tensorflow-intel==2.18.0->tensorflow) (1.16.0)\n",
            "Requirement already satisfied: termcolor>=1.1.0 in c:\\users\\dellg3\\anaconda3\\lib\\site-packages (from tensorflow-intel==2.18.0->tensorflow) (2.5.0)\n",
            "Requirement already satisfied: typing-extensions>=3.6.6 in c:\\users\\dellg3\\appdata\\roaming\\python\\python312\\site-packages (from tensorflow-intel==2.18.0->tensorflow) (4.12.2)\n",
            "Requirement already satisfied: wrapt>=1.11.0 in c:\\users\\dellg3\\anaconda3\\lib\\site-packages (from tensorflow-intel==2.18.0->tensorflow) (1.14.1)\n",
            "Requirement already satisfied: grpcio<2.0,>=1.24.3 in c:\\users\\dellg3\\anaconda3\\lib\\site-packages (from tensorflow-intel==2.18.0->tensorflow) (1.70.0)\n",
            "Requirement already satisfied: tensorboard<2.19,>=2.18 in c:\\users\\dellg3\\anaconda3\\lib\\site-packages (from tensorflow-intel==2.18.0->tensorflow) (2.18.0)\n",
            "Requirement already satisfied: keras>=3.5.0 in c:\\users\\dellg3\\anaconda3\\lib\\site-packages (from tensorflow-intel==2.18.0->tensorflow) (3.9.0)\n",
            "Requirement already satisfied: numpy<2.1.0,>=1.26.0 in c:\\users\\dellg3\\anaconda3\\lib\\site-packages (from tensorflow-intel==2.18.0->tensorflow) (1.26.4)\n",
            "Requirement already satisfied: h5py>=3.11.0 in c:\\users\\dellg3\\anaconda3\\lib\\site-packages (from tensorflow-intel==2.18.0->tensorflow) (3.11.0)\n",
            "Requirement already satisfied: ml-dtypes<0.5.0,>=0.4.0 in c:\\users\\dellg3\\anaconda3\\lib\\site-packages (from tensorflow-intel==2.18.0->tensorflow) (0.4.1)\n",
            "Requirement already satisfied: wheel<1.0,>=0.23.0 in c:\\users\\dellg3\\anaconda3\\lib\\site-packages (from astunparse>=1.6.0->tensorflow-intel==2.18.0->tensorflow) (0.44.0)\n",
            "Requirement already satisfied: rich in c:\\users\\dellg3\\anaconda3\\lib\\site-packages (from keras>=3.5.0->tensorflow-intel==2.18.0->tensorflow) (13.7.1)\n",
            "Requirement already satisfied: namex in c:\\users\\dellg3\\anaconda3\\lib\\site-packages (from keras>=3.5.0->tensorflow-intel==2.18.0->tensorflow) (0.0.8)\n",
            "Requirement already satisfied: optree in c:\\users\\dellg3\\anaconda3\\lib\\site-packages (from keras>=3.5.0->tensorflow-intel==2.18.0->tensorflow) (0.14.1)\n",
            "Requirement already satisfied: charset-normalizer<4,>=2 in c:\\users\\dellg3\\appdata\\roaming\\python\\python312\\site-packages (from requests<3,>=2.21.0->tensorflow-intel==2.18.0->tensorflow) (3.4.0)\n",
            "Requirement already satisfied: idna<4,>=2.5 in c:\\users\\dellg3\\appdata\\roaming\\python\\python312\\site-packages (from requests<3,>=2.21.0->tensorflow-intel==2.18.0->tensorflow) (3.10)\n",
            "Requirement already satisfied: urllib3<3,>=1.21.1 in c:\\users\\dellg3\\appdata\\roaming\\python\\python312\\site-packages (from requests<3,>=2.21.0->tensorflow-intel==2.18.0->tensorflow) (2.2.3)\n",
            "Requirement already satisfied: certifi>=2017.4.17 in c:\\users\\dellg3\\appdata\\roaming\\python\\python312\\site-packages (from requests<3,>=2.21.0->tensorflow-intel==2.18.0->tensorflow) (2024.8.30)\n",
            "Requirement already satisfied: markdown>=2.6.8 in c:\\users\\dellg3\\anaconda3\\lib\\site-packages (from tensorboard<2.19,>=2.18->tensorflow-intel==2.18.0->tensorflow) (3.4.1)\n",
            "Requirement already satisfied: tensorboard-data-server<0.8.0,>=0.7.0 in c:\\users\\dellg3\\anaconda3\\lib\\site-packages (from tensorboard<2.19,>=2.18->tensorflow-intel==2.18.0->tensorflow) (0.7.2)\n",
            "Requirement already satisfied: werkzeug>=1.0.1 in c:\\users\\dellg3\\anaconda3\\lib\\site-packages (from tensorboard<2.19,>=2.18->tensorflow-intel==2.18.0->tensorflow) (3.0.3)\n",
            "Requirement already satisfied: MarkupSafe>=2.1.1 in c:\\users\\dellg3\\appdata\\roaming\\python\\python312\\site-packages (from werkzeug>=1.0.1->tensorboard<2.19,>=2.18->tensorflow-intel==2.18.0->tensorflow) (3.0.2)\n",
            "Requirement already satisfied: markdown-it-py>=2.2.0 in c:\\users\\dellg3\\anaconda3\\lib\\site-packages (from rich->keras>=3.5.0->tensorflow-intel==2.18.0->tensorflow) (2.2.0)\n",
            "Requirement already satisfied: pygments<3.0.0,>=2.13.0 in c:\\users\\dellg3\\appdata\\roaming\\python\\python312\\site-packages (from rich->keras>=3.5.0->tensorflow-intel==2.18.0->tensorflow) (2.18.0)\n",
            "Requirement already satisfied: mdurl~=0.1 in c:\\users\\dellg3\\anaconda3\\lib\\site-packages (from markdown-it-py>=2.2.0->rich->keras>=3.5.0->tensorflow-intel==2.18.0->tensorflow) (0.1.0)\n",
            "Note: you may need to restart the kernel to use updated packages.\n"
          ]
        }
      ],
      "source": [
        "%pip install tensorflow"
      ]
    },
    {
      "cell_type": "code",
      "execution_count": 6,
      "metadata": {
        "colab": {
          "base_uri": "https://localhost:8080/"
        },
        "id": "UgSDYEEcVhyh",
        "outputId": "7ff35d22-c896-4b33-bf6e-d5c58a55850a"
      },
      "outputs": [
        {
          "name": "stdout",
          "output_type": "stream",
          "text": [
            "Found 2400 files belonging to 10 classes.\n",
            "Found 300 files belonging to 10 classes.\n",
            "Found 300 files belonging to 10 classes.\n"
          ]
        }
      ],
      "source": [
        "\n",
        "import tensorflow as tf\n",
        "from tensorflow.keras.preprocessing import image_dataset_from_directory\n",
        "\n",
        "# Define dataset paths\n",
        "dataset_path = \"e_waste_dataset/modified-dataset\"\n",
        "\n",
        "# Load datasets\n",
        "train_ds = image_dataset_from_directory(\n",
        "    dataset_path + \"/train\",\n",
        "    image_size=(224, 224),  # Resize images\n",
        "    batch_size=32\n",
        ")\n",
        "\n",
        "val_ds = image_dataset_from_directory(\n",
        "    dataset_path + \"/val\",\n",
        "    image_size=(224, 224),\n",
        "    batch_size=32\n",
        ")\n",
        "\n",
        "test_ds = image_dataset_from_directory(\n",
        "    dataset_path + \"/test\",\n",
        "    image_size=(224, 224),\n",
        "    batch_size=32\n",
        ")\n"
      ]
    },
    {
      "cell_type": "code",
      "execution_count": 7,
      "metadata": {
        "colab": {
          "base_uri": "https://localhost:8080/"
        },
        "id": "7r357plzXZBr",
        "outputId": "f7af16ce-088b-4114-ff22-2b180d23dacf"
      },
      "outputs": [
        {
          "name": "stdout",
          "output_type": "stream",
          "text": [
            "Collecting ultralytics\n",
            "  Downloading ultralytics-8.3.103-py3-none-any.whl.metadata (37 kB)\n",
            "Requirement already satisfied: numpy<=2.1.1,>=1.23.0 in c:\\users\\dellg3\\anaconda3\\lib\\site-packages (from ultralytics) (1.26.4)\n",
            "Requirement already satisfied: matplotlib>=3.3.0 in c:\\users\\dellg3\\anaconda3\\lib\\site-packages (from ultralytics) (3.9.2)\n",
            "Requirement already satisfied: opencv-python>=4.6.0 in c:\\users\\dellg3\\appdata\\roaming\\python\\python312\\site-packages (from ultralytics) (4.10.0.84)\n",
            "Requirement already satisfied: pillow>=7.1.2 in c:\\users\\dellg3\\appdata\\roaming\\python\\python312\\site-packages (from ultralytics) (11.0.0)\n",
            "Requirement already satisfied: pyyaml>=5.3.1 in c:\\users\\dellg3\\appdata\\roaming\\python\\python312\\site-packages (from ultralytics) (6.0.2)\n",
            "Requirement already satisfied: requests>=2.23.0 in c:\\users\\dellg3\\appdata\\roaming\\python\\python312\\site-packages (from ultralytics) (2.32.3)\n",
            "Requirement already satisfied: scipy>=1.4.1 in c:\\users\\dellg3\\anaconda3\\lib\\site-packages (from ultralytics) (1.13.1)\n",
            "Collecting torch>=1.8.0 (from ultralytics)\n",
            "  Downloading torch-2.6.0-cp312-cp312-win_amd64.whl.metadata (28 kB)\n",
            "Collecting torchvision>=0.9.0 (from ultralytics)\n",
            "  Downloading torchvision-0.21.0-cp312-cp312-win_amd64.whl.metadata (6.3 kB)\n",
            "Requirement already satisfied: tqdm>=4.64.0 in c:\\users\\dellg3\\anaconda3\\lib\\site-packages (from ultralytics) (4.66.5)\n",
            "Requirement already satisfied: psutil in c:\\users\\dellg3\\appdata\\roaming\\python\\python312\\site-packages (from ultralytics) (6.1.0)\n",
            "Requirement already satisfied: py-cpuinfo in c:\\users\\dellg3\\anaconda3\\lib\\site-packages (from ultralytics) (9.0.0)\n",
            "Requirement already satisfied: pandas>=1.1.4 in c:\\users\\dellg3\\appdata\\roaming\\python\\python312\\site-packages (from ultralytics) (2.2.3)\n",
            "Requirement already satisfied: seaborn>=0.11.0 in c:\\users\\dellg3\\anaconda3\\lib\\site-packages (from ultralytics) (0.13.2)\n",
            "Collecting ultralytics-thop>=2.0.0 (from ultralytics)\n",
            "  Downloading ultralytics_thop-2.0.14-py3-none-any.whl.metadata (9.4 kB)\n",
            "Requirement already satisfied: contourpy>=1.0.1 in c:\\users\\dellg3\\anaconda3\\lib\\site-packages (from matplotlib>=3.3.0->ultralytics) (1.2.0)\n",
            "Requirement already satisfied: cycler>=0.10 in c:\\users\\dellg3\\anaconda3\\lib\\site-packages (from matplotlib>=3.3.0->ultralytics) (0.11.0)\n",
            "Requirement already satisfied: fonttools>=4.22.0 in c:\\users\\dellg3\\anaconda3\\lib\\site-packages (from matplotlib>=3.3.0->ultralytics) (4.51.0)\n",
            "Requirement already satisfied: kiwisolver>=1.3.1 in c:\\users\\dellg3\\anaconda3\\lib\\site-packages (from matplotlib>=3.3.0->ultralytics) (1.4.4)\n",
            "Requirement already satisfied: packaging>=20.0 in c:\\users\\dellg3\\appdata\\roaming\\python\\python312\\site-packages (from matplotlib>=3.3.0->ultralytics) (24.2)\n",
            "Requirement already satisfied: pyparsing>=2.3.1 in c:\\users\\dellg3\\anaconda3\\lib\\site-packages (from matplotlib>=3.3.0->ultralytics) (3.1.2)\n",
            "Requirement already satisfied: python-dateutil>=2.7 in c:\\users\\dellg3\\appdata\\roaming\\python\\python312\\site-packages (from matplotlib>=3.3.0->ultralytics) (2.9.0.post0)\n",
            "Requirement already satisfied: pytz>=2020.1 in c:\\users\\dellg3\\appdata\\roaming\\python\\python312\\site-packages (from pandas>=1.1.4->ultralytics) (2025.1)\n",
            "Requirement already satisfied: tzdata>=2022.7 in c:\\users\\dellg3\\appdata\\roaming\\python\\python312\\site-packages (from pandas>=1.1.4->ultralytics) (2025.1)\n",
            "Requirement already satisfied: charset-normalizer<4,>=2 in c:\\users\\dellg3\\appdata\\roaming\\python\\python312\\site-packages (from requests>=2.23.0->ultralytics) (3.4.0)\n",
            "Requirement already satisfied: idna<4,>=2.5 in c:\\users\\dellg3\\appdata\\roaming\\python\\python312\\site-packages (from requests>=2.23.0->ultralytics) (3.10)\n",
            "Requirement already satisfied: urllib3<3,>=1.21.1 in c:\\users\\dellg3\\appdata\\roaming\\python\\python312\\site-packages (from requests>=2.23.0->ultralytics) (2.2.3)\n",
            "Requirement already satisfied: certifi>=2017.4.17 in c:\\users\\dellg3\\appdata\\roaming\\python\\python312\\site-packages (from requests>=2.23.0->ultralytics) (2024.8.30)\n",
            "Requirement already satisfied: filelock in c:\\users\\dellg3\\anaconda3\\lib\\site-packages (from torch>=1.8.0->ultralytics) (3.13.1)\n",
            "Requirement already satisfied: typing-extensions>=4.10.0 in c:\\users\\dellg3\\appdata\\roaming\\python\\python312\\site-packages (from torch>=1.8.0->ultralytics) (4.12.2)\n",
            "Requirement already satisfied: networkx in c:\\users\\dellg3\\anaconda3\\lib\\site-packages (from torch>=1.8.0->ultralytics) (3.3)\n",
            "Requirement already satisfied: jinja2 in c:\\users\\dellg3\\appdata\\roaming\\python\\python312\\site-packages (from torch>=1.8.0->ultralytics) (3.1.4)\n",
            "Requirement already satisfied: fsspec in c:\\users\\dellg3\\anaconda3\\lib\\site-packages (from torch>=1.8.0->ultralytics) (2024.6.1)\n",
            "Requirement already satisfied: setuptools in c:\\users\\dellg3\\appdata\\roaming\\python\\python312\\site-packages (from torch>=1.8.0->ultralytics) (75.6.0)\n",
            "Collecting sympy==1.13.1 (from torch>=1.8.0->ultralytics)\n",
            "  Downloading sympy-1.13.1-py3-none-any.whl.metadata (12 kB)\n",
            "Requirement already satisfied: mpmath<1.4,>=1.1.0 in c:\\users\\dellg3\\anaconda3\\lib\\site-packages (from sympy==1.13.1->torch>=1.8.0->ultralytics) (1.3.0)\n",
            "Requirement already satisfied: colorama in c:\\users\\dellg3\\appdata\\roaming\\python\\python312\\site-packages (from tqdm>=4.64.0->ultralytics) (0.4.6)\n",
            "Requirement already satisfied: six>=1.5 in c:\\users\\dellg3\\appdata\\roaming\\python\\python312\\site-packages (from python-dateutil>=2.7->matplotlib>=3.3.0->ultralytics) (1.16.0)\n",
            "Requirement already satisfied: MarkupSafe>=2.0 in c:\\users\\dellg3\\appdata\\roaming\\python\\python312\\site-packages (from jinja2->torch>=1.8.0->ultralytics) (3.0.2)\n",
            "Downloading ultralytics-8.3.103-py3-none-any.whl (994 kB)\n",
            "   ---------------------------------------- 0.0/994.0 kB ? eta -:--:--\n",
            "   --------------------------------------- 994.0/994.0 kB 11.6 MB/s eta 0:00:00\n",
            "Downloading torch-2.6.0-cp312-cp312-win_amd64.whl (204.1 MB)\n",
            "   ---------------------------------------- 0.0/204.1 MB ? eta -:--:--\n",
            "   ---------------------------------------- 2.4/204.1 MB 15.0 MB/s eta 0:00:14\n",
            "    --------------------------------------- 5.0/204.1 MB 12.1 MB/s eta 0:00:17\n",
            "   - -------------------------------------- 8.1/204.1 MB 13.3 MB/s eta 0:00:15\n",
            "   -- ------------------------------------- 10.7/204.1 MB 12.9 MB/s eta 0:00:15\n",
            "   -- ------------------------------------- 13.6/204.1 MB 13.4 MB/s eta 0:00:15\n",
            "   --- ------------------------------------ 16.8/204.1 MB 13.6 MB/s eta 0:00:14\n",
            "   --- ------------------------------------ 19.7/204.1 MB 13.7 MB/s eta 0:00:14\n",
            "   ---- ----------------------------------- 22.8/204.1 MB 13.9 MB/s eta 0:00:14\n",
            "   ----- ---------------------------------- 26.0/204.1 MB 14.2 MB/s eta 0:00:13\n",
            "   ----- ---------------------------------- 28.8/204.1 MB 14.2 MB/s eta 0:00:13\n",
            "   ------ --------------------------------- 31.5/204.1 MB 14.0 MB/s eta 0:00:13\n",
            "   ------ --------------------------------- 34.3/204.1 MB 13.9 MB/s eta 0:00:13\n",
            "   ------- -------------------------------- 37.5/204.1 MB 14.0 MB/s eta 0:00:12\n",
            "   ------- -------------------------------- 40.6/204.1 MB 14.1 MB/s eta 0:00:12\n",
            "   -------- ------------------------------- 44.0/204.1 MB 14.3 MB/s eta 0:00:12\n",
            "   --------- ------------------------------ 47.2/204.1 MB 14.4 MB/s eta 0:00:11\n",
            "   --------- ------------------------------ 50.1/204.1 MB 14.4 MB/s eta 0:00:11\n",
            "   ---------- ----------------------------- 53.5/204.1 MB 14.3 MB/s eta 0:00:11\n",
            "   ----------- ---------------------------- 56.9/204.1 MB 14.4 MB/s eta 0:00:11\n",
            "   ----------- ---------------------------- 60.3/204.1 MB 14.5 MB/s eta 0:00:10\n",
            "   ------------ --------------------------- 63.7/204.1 MB 14.6 MB/s eta 0:00:10\n",
            "   ------------- -------------------------- 67.1/204.1 MB 14.6 MB/s eta 0:00:10\n",
            "   ------------- -------------------------- 70.0/204.1 MB 14.6 MB/s eta 0:00:10\n",
            "   -------------- ------------------------- 72.9/204.1 MB 14.5 MB/s eta 0:00:10\n",
            "   -------------- ------------------------- 76.0/204.1 MB 14.5 MB/s eta 0:00:09\n",
            "   --------------- ------------------------ 78.9/204.1 MB 14.4 MB/s eta 0:00:09\n",
            "   ---------------- ----------------------- 82.1/204.1 MB 14.4 MB/s eta 0:00:09\n",
            "   ---------------- ----------------------- 85.2/204.1 MB 14.5 MB/s eta 0:00:09\n",
            "   ----------------- ---------------------- 88.3/204.1 MB 14.5 MB/s eta 0:00:09\n",
            "   ----------------- ---------------------- 91.5/204.1 MB 14.5 MB/s eta 0:00:08\n",
            "   ------------------ --------------------- 94.9/204.1 MB 14.5 MB/s eta 0:00:08\n",
            "   ------------------- -------------------- 97.8/204.1 MB 14.5 MB/s eta 0:00:08\n",
            "   ------------------- ------------------- 100.9/204.1 MB 14.5 MB/s eta 0:00:08\n",
            "   ------------------- ------------------- 104.1/204.1 MB 14.5 MB/s eta 0:00:07\n",
            "   -------------------- ------------------ 107.2/204.1 MB 14.5 MB/s eta 0:00:07\n",
            "   --------------------- ----------------- 110.4/204.1 MB 14.5 MB/s eta 0:00:07\n",
            "   --------------------- ----------------- 113.2/204.1 MB 14.5 MB/s eta 0:00:07\n",
            "   ---------------------- ---------------- 116.1/204.1 MB 14.5 MB/s eta 0:00:07\n",
            "   ---------------------- ---------------- 119.0/204.1 MB 14.5 MB/s eta 0:00:06\n",
            "   ----------------------- --------------- 122.2/204.1 MB 14.5 MB/s eta 0:00:06\n",
            "   ----------------------- --------------- 125.3/204.1 MB 14.5 MB/s eta 0:00:06\n",
            "   ------------------------ -------------- 128.5/204.1 MB 14.5 MB/s eta 0:00:06\n",
            "   ------------------------- ------------- 131.1/204.1 MB 14.5 MB/s eta 0:00:06\n",
            "   ------------------------- ------------- 134.2/204.1 MB 14.5 MB/s eta 0:00:05\n",
            "   -------------------------- ------------ 137.4/204.1 MB 14.5 MB/s eta 0:00:05\n",
            "   -------------------------- ------------ 140.2/204.1 MB 14.5 MB/s eta 0:00:05\n",
            "   --------------------------- ----------- 142.9/204.1 MB 14.5 MB/s eta 0:00:05\n",
            "   --------------------------- ----------- 146.0/204.1 MB 14.4 MB/s eta 0:00:05\n",
            "   ---------------------------- ---------- 149.2/204.1 MB 14.5 MB/s eta 0:00:04\n",
            "   ----------------------------- --------- 152.0/204.1 MB 14.4 MB/s eta 0:00:04\n",
            "   ----------------------------- --------- 155.2/204.1 MB 14.4 MB/s eta 0:00:04\n",
            "   ------------------------------ -------- 158.3/204.1 MB 14.5 MB/s eta 0:00:04\n",
            "   ------------------------------ -------- 161.5/204.1 MB 14.5 MB/s eta 0:00:03\n",
            "   ------------------------------- ------- 163.6/204.1 MB 14.4 MB/s eta 0:00:03\n",
            "   ------------------------------- ------- 165.9/204.1 MB 14.3 MB/s eta 0:00:03\n",
            "   -------------------------------- ------ 168.6/204.1 MB 14.3 MB/s eta 0:00:03\n",
            "   -------------------------------- ------ 171.4/204.1 MB 14.3 MB/s eta 0:00:03\n",
            "   --------------------------------- ----- 174.3/204.1 MB 14.3 MB/s eta 0:00:03\n",
            "   --------------------------------- ----- 177.5/204.1 MB 14.3 MB/s eta 0:00:02\n",
            "   ---------------------------------- ---- 180.1/204.1 MB 14.3 MB/s eta 0:00:02\n",
            "   ---------------------------------- ---- 183.0/204.1 MB 14.2 MB/s eta 0:00:02\n",
            "   ----------------------------------- --- 185.9/204.1 MB 14.2 MB/s eta 0:00:02\n",
            "   ------------------------------------ -- 189.3/204.1 MB 14.2 MB/s eta 0:00:02\n",
            "   ------------------------------------ -- 192.7/204.1 MB 14.3 MB/s eta 0:00:01\n",
            "   ------------------------------------- - 195.8/204.1 MB 14.3 MB/s eta 0:00:01\n",
            "   ------------------------------------- - 198.7/204.1 MB 14.3 MB/s eta 0:00:01\n",
            "   --------------------------------------  202.1/204.1 MB 14.3 MB/s eta 0:00:01\n",
            "   --------------------------------------  203.9/204.1 MB 14.3 MB/s eta 0:00:01\n",
            "   --------------------------------------  203.9/204.1 MB 14.3 MB/s eta 0:00:01\n",
            "   --------------------------------------  203.9/204.1 MB 14.3 MB/s eta 0:00:01\n",
            "   --------------------------------------  203.9/204.1 MB 14.3 MB/s eta 0:00:01\n",
            "   --------------------------------------  203.9/204.1 MB 14.3 MB/s eta 0:00:01\n",
            "   --------------------------------------  203.9/204.1 MB 14.3 MB/s eta 0:00:01\n",
            "   --------------------------------------  203.9/204.1 MB 14.3 MB/s eta 0:00:01\n",
            "   --------------------------------------- 204.1/204.1 MB 12.9 MB/s eta 0:00:00\n",
            "Downloading sympy-1.13.1-py3-none-any.whl (6.2 MB)\n",
            "   ---------------------------------------- 0.0/6.2 MB ? eta -:--:--\n",
            "   --------------- ------------------------ 2.4/6.2 MB 13.4 MB/s eta 0:00:01\n",
            "   --------------------------------- ------ 5.2/6.2 MB 12.8 MB/s eta 0:00:01\n",
            "   ---------------------------------------- 6.2/6.2 MB 12.7 MB/s eta 0:00:00\n",
            "Downloading torchvision-0.21.0-cp312-cp312-win_amd64.whl (1.6 MB)\n",
            "   ---------------------------------------- 0.0/1.6 MB ? eta -:--:--\n",
            "   ---------------------------------------- 1.6/1.6 MB 13.8 MB/s eta 0:00:00\n",
            "Downloading ultralytics_thop-2.0.14-py3-none-any.whl (26 kB)\n",
            "Installing collected packages: sympy, torch, ultralytics-thop, torchvision, ultralytics\n",
            "  Attempting uninstall: sympy\n",
            "    Found existing installation: sympy 1.13.2\n",
            "    Uninstalling sympy-1.13.2:\n",
            "      Successfully uninstalled sympy-1.13.2\n",
            "Successfully installed sympy-1.13.1 torch-2.6.0 torchvision-0.21.0 ultralytics-8.3.103 ultralytics-thop-2.0.14\n",
            "Note: you may need to restart the kernel to use updated packages.\n"
          ]
        }
      ],
      "source": [
        "%pip install ultralytics\n"
      ]
    },
    {
      "cell_type": "code",
      "execution_count": 8,
      "metadata": {
        "colab": {
          "base_uri": "https://localhost:8080/"
        },
        "id": "rorqSoRlYs-e",
        "outputId": "d4e4f47d-ff2e-4f26-f79d-2c28b94db3f9"
      },
      "outputs": [
        {
          "name": "stdout",
          "output_type": "stream",
          "text": [
            "Creating new Ultralytics Settings v0.0.6 file  \n",
            "View Ultralytics Settings with 'yolo settings' or at 'C:\\Users\\dellg3\\AppData\\Roaming\\Ultralytics\\settings.json'\n",
            "Update Settings with 'yolo settings key=value', i.e. 'yolo settings runs_dir=path/to/dir'. For help see https://docs.ultralytics.com/quickstart/#ultralytics-settings.\n"
          ]
        }
      ],
      "source": [
        "from ultralytics import YOLO\n"
      ]
    },
    {
      "cell_type": "code",
      "execution_count": 9,
      "metadata": {
        "colab": {
          "base_uri": "https://localhost:8080/"
        },
        "id": "1sMUfA3sbyPv",
        "outputId": "d0b2521e-eb7e-4c68-a292-e8ab5ba6de39"
      },
      "outputs": [
        {
          "name": "stdout",
          "output_type": "stream",
          "text": [
            "Collecting labelImg\n",
            "  Downloading labelImg-1.8.6.tar.gz (247 kB)\n",
            "  Preparing metadata (setup.py): started\n",
            "  Preparing metadata (setup.py): finished with status 'done'\n",
            "Requirement already satisfied: pyqt5 in c:\\users\\dellg3\\anaconda3\\lib\\site-packages (from labelImg) (5.15.10)\n",
            "Requirement already satisfied: lxml in c:\\users\\dellg3\\appdata\\roaming\\python\\python312\\site-packages (from labelImg) (5.3.0)\n",
            "Requirement already satisfied: PyQt5-sip<13,>=12.13 in c:\\users\\dellg3\\anaconda3\\lib\\site-packages (from pyqt5->labelImg) (12.13.0)\n",
            "Building wheels for collected packages: labelImg\n",
            "  Building wheel for labelImg (setup.py): started\n",
            "  Building wheel for labelImg (setup.py): finished with status 'done'\n",
            "  Created wheel for labelImg: filename=labelImg-1.8.6-py2.py3-none-any.whl size=261581 sha256=ad0573c781599e6da8563d422a82a21a531d418090dd69583b7cf6b6dbd3b949\n",
            "  Stored in directory: c:\\users\\dellg3\\appdata\\local\\pip\\cache\\wheels\\e6\\1c\\26\\d1b603062180ce80890567fb7e1e837db08bdea938aaea77f3\n",
            "Successfully built labelImg\n",
            "Installing collected packages: labelImg\n",
            "Successfully installed labelImg-1.8.6\n",
            "Note: you may need to restart the kernel to use updated packages.\n"
          ]
        }
      ],
      "source": [
        "%pip install labelImg\n",
        "\n"
      ]
    }
  ],
  "metadata": {
    "accelerator": "TPU",
    "colab": {
      "gpuType": "V28",
      "provenance": []
    },
    "kernelspec": {
      "display_name": "base",
      "language": "python",
      "name": "python3"
    },
    "language_info": {
      "codemirror_mode": {
        "name": "ipython",
        "version": 3
      },
      "file_extension": ".py",
      "mimetype": "text/x-python",
      "name": "python",
      "nbconvert_exporter": "python",
      "pygments_lexer": "ipython3",
      "version": "3.12.3"
    }
  },
  "nbformat": 4,
  "nbformat_minor": 0
}
